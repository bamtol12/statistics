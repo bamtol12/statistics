{
 "cells": [
  {
   "cell_type": "markdown",
   "id": "5c340b58",
   "metadata": {},
   "source": [
    "Supervised/Unsupervised learning\n",
    "    supervised : learning with labeled examples, data\n",
    "        ex) cat, mug\n",
    "    unsupervised: learning with unsupervised data\n",
    "        ex) news, words\n",
    "        \n",
    "Supervised\n",
    "- regression => wider scale\n",
    "- binary classificaion => yes/no\n",
    "- multi-label classification => multiple choice"
   ]
  },
  {
   "cell_type": "markdown",
   "id": "53024ab7",
   "metadata": {},
   "source": [
    "Linear Hypothesis :\n",
    "H(x) = Wx + b\n",
    "\n",
    "compare deviation between real data & hypotesis\n",
    "=> cost function : \n",
    "$H(x) - y$\n",
    "$(H(x) - y)^2$ => to make positive number\n",
    "\n",
    "$cost = \\frac{1}{m} \\sum_{i=1}^{m}(H(x^i)-y^i)^2$\n",
    "\n",
    "goal: minimize cost(W,b)"
   ]
  },
  {
   "cell_type": "code",
   "execution_count": null,
   "id": "b283e8b7",
   "metadata": {},
   "outputs": [],
   "source": [
    "\n",
    "import tensorflow as tf\n",
    "\n",
    "x_train = [1, 2, 3, 4]\n",
    "y_train = [0, -1, -2, -3]\n",
    "\n",
    "W = tf.Variable(tf.random_normal([1]), name = 'weight')\n",
    "b = tf.Variable(tf.random_normal([1]), name = 'bias')\n",
    "\n",
    "hyp = x_train * W + b\n",
    "\n",
    "cost = tf.reduce_mean(tf.square(hyp - y_train))\n",
    "\n",
    "opt = tf.train.GradientDescentOptimizer(learning_rate = 0.01)\n",
    "train = optimizer.minimize(cost)\n",
    "\n",
    "sess = tf.Session()\n",
    "sess.run(tf.globla_variables_initializer())\n",
    "\n",
    "for step in range(2001):\n",
    "    sess.run(train)\n",
    "    if step % 20 == 0:\n",
    "        print(step, sess.run(cost), sess.run(W), sess.run(b))"
   ]
  }
 ],
 "metadata": {
  "kernelspec": {
   "display_name": "Python 3 (ipykernel)",
   "language": "python",
   "name": "python3"
  },
  "language_info": {
   "codemirror_mode": {
    "name": "ipython",
    "version": 3
   },
   "file_extension": ".py",
   "mimetype": "text/x-python",
   "name": "python",
   "nbconvert_exporter": "python",
   "pygments_lexer": "ipython3",
   "version": "3.8.2"
  }
 },
 "nbformat": 4,
 "nbformat_minor": 5
}
