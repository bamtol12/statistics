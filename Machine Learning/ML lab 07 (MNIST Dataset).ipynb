{
 "cells": [
  {
   "cell_type": "code",
   "execution_count": null,
   "id": "cd3d3530",
   "metadata": {},
   "outputs": [],
   "source": [
    "import tensorflow as tf\n",
    "import matplotlib.pyplot as plt\n",
    "import random\n",
    "\n",
    "tf.set_random_seed(777)  \n",
    "\n",
    "from tensorflow.examples.tutorials.mnist import input_data\n",
    "\n",
    "mnist = input_data.read_data_sets(\"MNIST_data/\", one_hot=True)\n",
    "\n",
    "nb_classes = 10\n",
    "\n",
    "X = tf.placeholder(tf.float32, [None, 784])\n",
    "Y = tf.placeholder(tf.float32, [None, nb_classes])"
   ]
  },
  {
   "cell_type": "markdown",
   "id": "fd1b0c24",
   "metadata": {},
   "source": [
    "MNIST 데이터세트 크기 : 28 * 28 =784   \n",
    "X → None * 784   \n",
    "Y → None * 10"
   ]
  },
  {
   "cell_type": "code",
   "execution_count": null,
   "id": "e3eb06f3",
   "metadata": {},
   "outputs": [],
   "source": [
    "W = tf.Variable(tf.random_normal([784, nb_classes]))\n",
    "b = tf.Variable(tf.random_normal([nb_classes]))"
   ]
  },
  {
   "cell_type": "markdown",
   "id": "2cfd569c",
   "metadata": {},
   "source": [
    "W → 784 * 10   \n",
    "b → 10 * 1   \n",
    "W와 b 모두 mutable하기 때문에 float32_ref"
   ]
  },
  {
   "cell_type": "code",
   "execution_count": null,
   "id": "f282a4da",
   "metadata": {},
   "outputs": [],
   "source": [
    "hypothesis = tf.nn.softmax(tf.matmul(X, W) + b)"
   ]
  },
  {
   "cell_type": "markdown",
   "id": "00bd7bce",
   "metadata": {},
   "source": [
    "hypothesis → None * 10"
   ]
  },
  {
   "cell_type": "code",
   "execution_count": null,
   "id": "a3d49984",
   "metadata": {},
   "outputs": [],
   "source": [
    "cost = tf.reduce_mean(-tf.reduce_sum(Y * tf.log(hypothesis), axis=1))\n",
    "train = tf.train.GradientDescentOptimizer(learning_rate=0.1).minimize(cost)\n",
    "\n",
    "is_correct = tf.equal(tf.argmax(hypothesis, 1), tf.argmax(Y, 1))\n",
    "accuracy = tf.reduce_mean(tf.cast(is_correct, tf.float32))"
   ]
  },
  {
   "cell_type": "markdown",
   "id": "4454f1a0",
   "metadata": {},
   "source": [
    "'tf.equal()'함수로 tf.argmax(hypothesis, 1)와 tf.argmax(Y, 1) 비교 후 일치하는지 확인     \n",
    "'tf.cast()'함수로 True/False 형식으로 나타냄"
   ]
  },
  {
   "cell_type": "code",
   "execution_count": null,
   "id": "d54a8a18",
   "metadata": {},
   "outputs": [],
   "source": [
    "num_epochs = 15\n",
    "batch_size = 100\n",
    "num_iterations = int(mnist.train.num_examples / batch_size)\n",
    "batch_xs, batch_ys = mnist.train.next_batch(batch_size)"
   ]
  },
  {
   "cell_type": "markdown",
   "id": "7bb022ec",
   "metadata": {},
   "source": [
    "epoch = 전체 데이터세트 학습 반복 횟수    \n",
    "batch = 한번에 100개씩 학습    \n",
    "iteration = mnist.train.num_examples(55000)를 batch_size(100)로 나눈 것   \n",
    "batch_xs, batch_ys에 각각 다른 mnist.train.next_batch(batch_size)값 대입   "
   ]
  },
  {
   "cell_type": "code",
   "execution_count": null,
   "id": "d7dc34c8",
   "metadata": {},
   "outputs": [],
   "source": [
    "with tf.Session() as sess:\n",
    "    sess.run(tf.global_variables_initializer())\n",
    "    for epoch in range(num_epochs):\n",
    "        avg_cost = 0\n",
    "\n",
    "        for i in range(num_iterations):\n",
    "            _, cost_val = sess.run([train, cost], feed_dict={X: batch_xs, Y: batch_ys})\n",
    "            avg_cost += cost_val / num_iterations\n",
    "\n",
    "        print(\"Epoch: {:04d}, Cost: {:.9f}\".format(epoch + 1, avg_cost))\n",
    "\n",
    "    print(\"Learning finished\")"
   ]
  },
  {
   "cell_type": "markdown",
   "id": "d2e36491",
   "metadata": {},
   "source": [
    "cost average는 cost값을 모두 더해서 iteration갯수로 나눈 것"
   ]
  },
  {
   "cell_type": "code",
   "execution_count": null,
   "id": "b6870095",
   "metadata": {},
   "outputs": [],
   "source": [
    "    print(\n",
    "        \"Accuracy: \",\n",
    "        accuracy.eval(\n",
    "            session=sess, feed_dict={X: mnist.test.images, Y: mnist.test.labels}\n",
    "        ),\n",
    "    )\n",
    "\n",
    "    r = random.randint(0, mnist.test.num_examples - 1)\n",
    "    print(\"Label: \", sess.run(tf.argmax(mnist.test.labels[r : r + 1], 1)))\n",
    "    print(\n",
    "        \"Prediction: \",\n",
    "        sess.run(tf.argmax(hypothesis, 1), feed_dict={X: mnist.test.images[r : r + 1]}),\n",
    "    )\n",
    "\n",
    "    plt.imshow(\n",
    "        mnist.test.images[r : r + 1].reshape(28, 28),\n",
    "        cmap=\"Greys\",\n",
    "        interpolation=\"nearest\",\n",
    "    )\n",
    "    plt.show()"
   ]
  }
 ],
 "metadata": {
  "kernelspec": {
   "display_name": "Python 3 (ipykernel)",
   "language": "python",
   "name": "python3"
  },
  "language_info": {
   "codemirror_mode": {
    "name": "ipython",
    "version": 3
   },
   "file_extension": ".py",
   "mimetype": "text/x-python",
   "name": "python",
   "nbconvert_exporter": "python",
   "pygments_lexer": "ipython3",
   "version": "3.7.3"
  }
 },
 "nbformat": 4,
 "nbformat_minor": 5
}
