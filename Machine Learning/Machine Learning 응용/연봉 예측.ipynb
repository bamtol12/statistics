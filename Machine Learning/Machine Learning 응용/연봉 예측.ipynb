{
 "cells": [
  {
   "cell_type": "markdown",
   "id": "579fc5f4",
   "metadata": {},
   "source": [
    "#연봉 예측  \n",
    "2017년의 데이터를 기반으로 KBO투수들의 2018년 연봉을 통계가 아닌 딥러닝으로 예측해보자.   \n",
    "'이것이 데이터분석 이다 with 파이썬'을 일부 참고함.\n",
    "    \n",
    "   \n",
    "------------------------------------"
   ]
  },
  {
   "cell_type": "code",
   "execution_count": 1,
   "id": "b4266de7",
   "metadata": {
    "scrolled": true
   },
   "outputs": [
    {
     "data": {
      "text/plain": [
       "Index(['선수명', '팀명', '승', '패', '세', '홀드', '블론', '경기', '선발', '이닝', '삼진/9',\n",
       "       '볼넷/9', '홈런/9', 'BABIP', 'LOB%', 'ERA', 'RA9-WAR', 'FIP', 'kFIP', 'WAR',\n",
       "       '연봉(2018)', '연봉(2017)'],\n",
       "      dtype='object')"
      ]
     },
     "execution_count": 1,
     "metadata": {},
     "output_type": "execute_result"
    }
   ],
   "source": [
    "%matplotlib inline\n",
    "\n",
    "import pandas as pd\n",
    "import numpy as np\n",
    "import matplotlib.pyplot as plt\n",
    "\n",
    "picher_file_path = 'C:/Users/USer/Downloads/picher_stats_2017.csv'\n",
    "picher = pd.read_csv(picher_file_path, encoding='euc-kr')\n",
    "\n",
    "picher.columns"
   ]
  },
  {
   "cell_type": "markdown",
   "id": "79b32b5e",
   "metadata": {},
   "source": [
    "2017년 투수들의 데이터 및 연봉 그리고 2018 연봉을 정리해놓은 picher_stats_2017.csv 파일을 사용했다.   \n",
    "csv파일을 열었을 때 글씨가 깨져서 한글로 다시 encoding 해주었다."
   ]
  },
  {
   "cell_type": "code",
   "execution_count": 2,
   "id": "da9565ad",
   "metadata": {
    "scrolled": false
   },
   "outputs": [
    {
     "data": {
      "text/html": [
       "<div>\n",
       "<style scoped>\n",
       "    .dataframe tbody tr th:only-of-type {\n",
       "        vertical-align: middle;\n",
       "    }\n",
       "\n",
       "    .dataframe tbody tr th {\n",
       "        vertical-align: top;\n",
       "    }\n",
       "\n",
       "    .dataframe thead th {\n",
       "        text-align: right;\n",
       "    }\n",
       "</style>\n",
       "<table border=\"1\" class=\"dataframe\">\n",
       "  <thead>\n",
       "    <tr style=\"text-align: right;\">\n",
       "      <th></th>\n",
       "      <th>선수명</th>\n",
       "      <th>팀명</th>\n",
       "      <th>승</th>\n",
       "      <th>패</th>\n",
       "      <th>세</th>\n",
       "      <th>홀드</th>\n",
       "      <th>블론</th>\n",
       "      <th>경기</th>\n",
       "      <th>선발</th>\n",
       "      <th>이닝</th>\n",
       "      <th>...</th>\n",
       "      <th>홈런/9</th>\n",
       "      <th>BABIP</th>\n",
       "      <th>LOB%</th>\n",
       "      <th>ERA</th>\n",
       "      <th>RA9-WAR</th>\n",
       "      <th>FIP</th>\n",
       "      <th>kFIP</th>\n",
       "      <th>WAR</th>\n",
       "      <th>연봉(2018)</th>\n",
       "      <th>연봉(2017)</th>\n",
       "    </tr>\n",
       "  </thead>\n",
       "  <tbody>\n",
       "    <tr>\n",
       "      <th>0</th>\n",
       "      <td>켈리</td>\n",
       "      <td>SK</td>\n",
       "      <td>16</td>\n",
       "      <td>7</td>\n",
       "      <td>0</td>\n",
       "      <td>0</td>\n",
       "      <td>0</td>\n",
       "      <td>30</td>\n",
       "      <td>30</td>\n",
       "      <td>190.0</td>\n",
       "      <td>...</td>\n",
       "      <td>0.76</td>\n",
       "      <td>0.342</td>\n",
       "      <td>73.7</td>\n",
       "      <td>3.60</td>\n",
       "      <td>6.91</td>\n",
       "      <td>3.69</td>\n",
       "      <td>3.44</td>\n",
       "      <td>6.62</td>\n",
       "      <td>140000</td>\n",
       "      <td>85000</td>\n",
       "    </tr>\n",
       "    <tr>\n",
       "      <th>1</th>\n",
       "      <td>소사</td>\n",
       "      <td>LG</td>\n",
       "      <td>11</td>\n",
       "      <td>11</td>\n",
       "      <td>1</td>\n",
       "      <td>0</td>\n",
       "      <td>0</td>\n",
       "      <td>30</td>\n",
       "      <td>29</td>\n",
       "      <td>185.1</td>\n",
       "      <td>...</td>\n",
       "      <td>0.53</td>\n",
       "      <td>0.319</td>\n",
       "      <td>67.1</td>\n",
       "      <td>3.88</td>\n",
       "      <td>6.80</td>\n",
       "      <td>3.52</td>\n",
       "      <td>3.41</td>\n",
       "      <td>6.08</td>\n",
       "      <td>120000</td>\n",
       "      <td>50000</td>\n",
       "    </tr>\n",
       "    <tr>\n",
       "      <th>2</th>\n",
       "      <td>양현종</td>\n",
       "      <td>KIA</td>\n",
       "      <td>20</td>\n",
       "      <td>6</td>\n",
       "      <td>0</td>\n",
       "      <td>0</td>\n",
       "      <td>0</td>\n",
       "      <td>31</td>\n",
       "      <td>31</td>\n",
       "      <td>193.1</td>\n",
       "      <td>...</td>\n",
       "      <td>0.79</td>\n",
       "      <td>0.332</td>\n",
       "      <td>72.1</td>\n",
       "      <td>3.44</td>\n",
       "      <td>6.54</td>\n",
       "      <td>3.94</td>\n",
       "      <td>3.82</td>\n",
       "      <td>5.64</td>\n",
       "      <td>230000</td>\n",
       "      <td>150000</td>\n",
       "    </tr>\n",
       "    <tr>\n",
       "      <th>3</th>\n",
       "      <td>차우찬</td>\n",
       "      <td>LG</td>\n",
       "      <td>10</td>\n",
       "      <td>7</td>\n",
       "      <td>0</td>\n",
       "      <td>0</td>\n",
       "      <td>0</td>\n",
       "      <td>28</td>\n",
       "      <td>28</td>\n",
       "      <td>175.2</td>\n",
       "      <td>...</td>\n",
       "      <td>1.02</td>\n",
       "      <td>0.298</td>\n",
       "      <td>75.0</td>\n",
       "      <td>3.43</td>\n",
       "      <td>6.11</td>\n",
       "      <td>4.20</td>\n",
       "      <td>4.03</td>\n",
       "      <td>4.63</td>\n",
       "      <td>100000</td>\n",
       "      <td>100000</td>\n",
       "    </tr>\n",
       "    <tr>\n",
       "      <th>4</th>\n",
       "      <td>레일리</td>\n",
       "      <td>롯데</td>\n",
       "      <td>13</td>\n",
       "      <td>7</td>\n",
       "      <td>0</td>\n",
       "      <td>0</td>\n",
       "      <td>0</td>\n",
       "      <td>30</td>\n",
       "      <td>30</td>\n",
       "      <td>187.1</td>\n",
       "      <td>...</td>\n",
       "      <td>0.91</td>\n",
       "      <td>0.323</td>\n",
       "      <td>74.1</td>\n",
       "      <td>3.80</td>\n",
       "      <td>6.13</td>\n",
       "      <td>4.36</td>\n",
       "      <td>4.31</td>\n",
       "      <td>4.38</td>\n",
       "      <td>111000</td>\n",
       "      <td>85000</td>\n",
       "    </tr>\n",
       "  </tbody>\n",
       "</table>\n",
       "<p>5 rows × 22 columns</p>\n",
       "</div>"
      ],
      "text/plain": [
       "   선수명   팀명   승   패  세  홀드  블론  경기  선발     이닝  ...  홈런/9  BABIP  LOB%   ERA  \\\n",
       "0   켈리   SK  16   7  0   0   0  30  30  190.0  ...  0.76  0.342  73.7  3.60   \n",
       "1   소사   LG  11  11  1   0   0  30  29  185.1  ...  0.53  0.319  67.1  3.88   \n",
       "2  양현종  KIA  20   6  0   0   0  31  31  193.1  ...  0.79  0.332  72.1  3.44   \n",
       "3  차우찬   LG  10   7  0   0   0  28  28  175.2  ...  1.02  0.298  75.0  3.43   \n",
       "4  레일리   롯데  13   7  0   0   0  30  30  187.1  ...  0.91  0.323  74.1  3.80   \n",
       "\n",
       "   RA9-WAR   FIP  kFIP   WAR  연봉(2018)  연봉(2017)  \n",
       "0     6.91  3.69  3.44  6.62    140000     85000  \n",
       "1     6.80  3.52  3.41  6.08    120000     50000  \n",
       "2     6.54  3.94  3.82  5.64    230000    150000  \n",
       "3     6.11  4.20  4.03  4.63    100000    100000  \n",
       "4     6.13  4.36  4.31  4.38    111000     85000  \n",
       "\n",
       "[5 rows x 22 columns]"
      ]
     },
     "execution_count": 2,
     "metadata": {},
     "output_type": "execute_result"
    }
   ],
   "source": [
    "picher.head() "
   ]
  },
  {
   "cell_type": "markdown",
   "id": "cb555de0",
   "metadata": {},
   "source": [
    "처음 5줄의 데이터 출력"
   ]
  },
  {
   "cell_type": "code",
   "execution_count": 3,
   "id": "fc4f6502",
   "metadata": {},
   "outputs": [
    {
     "name": "stdout",
     "output_type": "stream",
     "text": [
      "(152, 22)\n"
     ]
    }
   ],
   "source": [
    "print(picher.shape)"
   ]
  },
  {
   "cell_type": "markdown",
   "id": "82d08ae0",
   "metadata": {},
   "source": [
    "총 152명의 선수의 데이터가 있음을 알 수 있다."
   ]
  },
  {
   "cell_type": "code",
   "execution_count": 4,
   "id": "9a56bae6",
   "metadata": {},
   "outputs": [
    {
     "data": {
      "text/plain": [
       "count       152.000000\n",
       "mean      18932.236842\n",
       "std       30940.732924\n",
       "min        2700.000000\n",
       "25%        4000.000000\n",
       "50%        7550.000000\n",
       "75%       18500.000000\n",
       "max      230000.000000\n",
       "Name: 연봉(2018), dtype: float64"
      ]
     },
     "execution_count": 4,
     "metadata": {},
     "output_type": "execute_result"
    }
   ],
   "source": [
    "picher['연봉(2018)'].describe()"
   ]
  },
  {
   "cell_type": "markdown",
   "id": "92b9a6a8",
   "metadata": {},
   "source": [
    "2018 연봉의 평균, 표준편차, 4분위수 등을 알 수 있다."
   ]
  },
  {
   "cell_type": "code",
   "execution_count": 5,
   "id": "9ad9b3a3",
   "metadata": {},
   "outputs": [
    {
     "data": {
      "text/plain": [
       "<AxesSubplot:>"
      ]
     },
     "execution_count": 5,
     "metadata": {},
     "output_type": "execute_result"
    },
    {
     "data": {
      "image/png": "[encoded data removed]",
      "text/plain": [
       "<Figure size 432x288 with 1 Axes>"
      ]
     },
     "metadata": {
      "needs_background": "light"
     },
     "output_type": "display_data"
    }
   ],
   "source": [
    "picher['승'].hist(bins=100)"
   ]
  },
  {
   "cell_type": "markdown",
   "id": "c674a642",
   "metadata": {},
   "source": [
    "2017년 투수들의 승수를 x축을 100등분한 그래프로 볼 수 있다.   \n",
    "데이터셋에 승이 없는 중간계투, 마무리투수 등의 선수들도 많으므로 승이 0인 선수들이 비교적 많은 것으로 나타난다."
   ]
  },
  {
   "cell_type": "code",
   "execution_count": 6,
   "id": "f089a03b",
   "metadata": {
    "scrolled": true
   },
   "outputs": [
    {
     "data": {
      "text/plain": [
       "<AxesSubplot:>"
      ]
     },
     "execution_count": 6,
     "metadata": {},
     "output_type": "execute_result"
    },
    {
     "data": {
      "image/png": "[encoded data removed]",
      "text/plain": [
       "<Figure size 432x288 with 1 Axes>"
      ]
     },
     "metadata": {
      "needs_background": "light"
     },
     "output_type": "display_data"
    }
   ],
   "source": [
    "picher['연봉(2018)'].hist(bins=100)"
   ]
  },
  {
   "cell_type": "markdown",
   "id": "530cfea5",
   "metadata": {},
   "source": [
    "2018년 투수들의 연봉을 x축을 100등분한 그래프로써 나타낸다.   \n",
    "상대적으로 연봉을 적게 받는 선수들이 더 많은 것을 알 수 있다. "
   ]
  },
  {
   "cell_type": "code",
   "execution_count": 7,
   "id": "9cc8020c",
   "metadata": {
    "scrolled": true
   },
   "outputs": [
    {
     "name": "stdout",
     "output_type": "stream",
     "text": [
      "2\n",
      "2\n"
     ]
    }
   ],
   "source": [
    "print(picher.loc[:, '연봉(2018)'].idxmax())\n",
    "print(picher.loc[:, '승'].idxmax())"
   ]
  },
  {
   "cell_type": "markdown",
   "id": "3dce74cc",
   "metadata": {},
   "source": [
    "위 두 그래프에서 가장 오른쪽에 있는 극값이 오류가 아닌 지 알아보기 위해 maximum값을 찾아보았다.   \n",
    "모두 2번 인덱스 값인 걸로 나타났다."
   ]
  },
  {
   "cell_type": "code",
   "execution_count": 8,
   "id": "203ae9be",
   "metadata": {
    "scrolled": true
   },
   "outputs": [
    {
     "data": {
      "text/plain": [
       "선수명            양현종\n",
       "팀명             KIA\n",
       "승               20\n",
       "패                6\n",
       "세                0\n",
       "홀드               0\n",
       "블론               0\n",
       "경기              31\n",
       "선발              31\n",
       "이닝           193.1\n",
       "삼진/9          7.36\n",
       "볼넷/9          2.09\n",
       "홈런/9          0.79\n",
       "BABIP        0.332\n",
       "LOB%          72.1\n",
       "ERA           3.44\n",
       "RA9-WAR       6.54\n",
       "FIP           3.94\n",
       "kFIP          3.82\n",
       "WAR           5.64\n",
       "연봉(2018)    230000\n",
       "연봉(2017)    150000\n",
       "Name: 2, dtype: object"
      ]
     },
     "execution_count": 8,
     "metadata": {},
     "output_type": "execute_result"
    }
   ],
   "source": [
    "df = pd.DataFrame(picher)\n",
    "df.query('2')"
   ]
  },
  {
   "cell_type": "markdown",
   "id": "b444b517",
   "metadata": {},
   "source": [
    "`pandas`의 `DataFrame()`함수를 이용하여 인덱스가 2인 선수를 찾아 그 선수의 승과 연봉을 두 그래프와 비교했다.\n",
    "2017년 기아 타이거즈의 양현종 선수의 승과 2018년 연봉이 각각 20, 230000 만원인 것으로 나타났다."
   ]
  },
  {
   "cell_type": "code",
   "execution_count": 9,
   "id": "1b53c3c9",
   "metadata": {},
   "outputs": [],
   "source": [
    "pd.options.mode.chained_assignment = None"
   ]
  },
  {
   "cell_type": "markdown",
   "id": "9b2da323",
   "metadata": {},
   "source": [
    "데이터프레임을 복사해 다른 데이터프레임을 만들 때 종종 경고가 뜨며 코드가 멈추는 상황이 발생하는데, 그 경고를 끄고 무시하는 코드이다. "
   ]
  },
  {
   "cell_type": "code",
   "execution_count": 10,
   "id": "644b7873",
   "metadata": {},
   "outputs": [],
   "source": [
    "def standard_scaling(df, scale_columns): #표준화\n",
    "    for col in scale_columns:\n",
    "        series_mean = df[col].mean()\n",
    "        series_std = df[col].std()\n",
    "        df[col] = df[col].apply(lambda x: (x-series_mean)/series_std)\n",
    "    return df"
   ]
  },
  {
   "cell_type": "markdown",
   "id": "2a535f44",
   "metadata": {},
   "source": [
    "스케일링, 즉 표준화를 시키는 코드이다.   \n",
    "표준정규분포로써 나타낼 수 있으며, 데이터마다 데이터의 크기가 모두 다르기 때문에 표준화를 시켜 값의 차이가 많이 나지 않도록 만들어준다.   \n",
    "모든 데이터에 평균을 뺀 후에 표준편차로 나누어 계산한다."
   ]
  },
  {
   "cell_type": "code",
   "execution_count": 11,
   "id": "811ca64d",
   "metadata": {},
   "outputs": [],
   "source": [
    "scale_columns = ['승', '패', '세', '홀드', '블론', '경기', '선발', '이닝', '삼진/9',\n",
    "       '볼넷/9', '홈런/9', 'BABIP', 'LOB%', 'ERA', 'RA9-WAR', 'FIP', 'kFIP', 'WAR', '연봉(2017)']\n",
    "\n",
    "picher_df = standard_scaling(picher, scale_columns)"
   ]
  },
  {
   "cell_type": "markdown",
   "id": "ceecfeb9",
   "metadata": {},
   "source": [
    "'연봉(2018)'을 제외한 나머지 데이터들을 스케일링하여 나타낸다."
   ]
  },
  {
   "cell_type": "code",
   "execution_count": 12,
   "id": "ae3d17cc",
   "metadata": {
    "scrolled": true
   },
   "outputs": [
    {
     "data": {
      "text/html": [
       "<div>\n",
       "<style scoped>\n",
       "    .dataframe tbody tr th:only-of-type {\n",
       "        vertical-align: middle;\n",
       "    }\n",
       "\n",
       "    .dataframe tbody tr th {\n",
       "        vertical-align: top;\n",
       "    }\n",
       "\n",
       "    .dataframe thead th {\n",
       "        text-align: right;\n",
       "    }\n",
       "</style>\n",
       "<table border=\"1\" class=\"dataframe\">\n",
       "  <thead>\n",
       "    <tr style=\"text-align: right;\">\n",
       "      <th></th>\n",
       "      <th>선수명</th>\n",
       "      <th>팀명</th>\n",
       "      <th>승</th>\n",
       "      <th>패</th>\n",
       "      <th>세</th>\n",
       "      <th>홀드</th>\n",
       "      <th>블론</th>\n",
       "      <th>경기</th>\n",
       "      <th>선발</th>\n",
       "      <th>이닝</th>\n",
       "      <th>...</th>\n",
       "      <th>홈런/9</th>\n",
       "      <th>BABIP</th>\n",
       "      <th>LOB%</th>\n",
       "      <th>ERA</th>\n",
       "      <th>RA9-WAR</th>\n",
       "      <th>FIP</th>\n",
       "      <th>kFIP</th>\n",
       "      <th>WAR</th>\n",
       "      <th>y</th>\n",
       "      <th>연봉(2017)</th>\n",
       "    </tr>\n",
       "  </thead>\n",
       "  <tbody>\n",
       "    <tr>\n",
       "      <th>0</th>\n",
       "      <td>켈리</td>\n",
       "      <td>SK</td>\n",
       "      <td>3.313623</td>\n",
       "      <td>1.227145</td>\n",
       "      <td>-0.306452</td>\n",
       "      <td>-0.585705</td>\n",
       "      <td>-0.543592</td>\n",
       "      <td>0.059433</td>\n",
       "      <td>2.452068</td>\n",
       "      <td>2.645175</td>\n",
       "      <td>...</td>\n",
       "      <td>-0.442382</td>\n",
       "      <td>0.016783</td>\n",
       "      <td>0.446615</td>\n",
       "      <td>-0.587056</td>\n",
       "      <td>3.174630</td>\n",
       "      <td>-0.971030</td>\n",
       "      <td>-1.058125</td>\n",
       "      <td>4.503142</td>\n",
       "      <td>140000</td>\n",
       "      <td>2.734705</td>\n",
       "    </tr>\n",
       "    <tr>\n",
       "      <th>1</th>\n",
       "      <td>소사</td>\n",
       "      <td>LG</td>\n",
       "      <td>2.019505</td>\n",
       "      <td>2.504721</td>\n",
       "      <td>-0.098502</td>\n",
       "      <td>-0.585705</td>\n",
       "      <td>-0.543592</td>\n",
       "      <td>0.059433</td>\n",
       "      <td>2.349505</td>\n",
       "      <td>2.547755</td>\n",
       "      <td>...</td>\n",
       "      <td>-0.668521</td>\n",
       "      <td>-0.241686</td>\n",
       "      <td>-0.122764</td>\n",
       "      <td>-0.519855</td>\n",
       "      <td>3.114968</td>\n",
       "      <td>-1.061888</td>\n",
       "      <td>-1.073265</td>\n",
       "      <td>4.094734</td>\n",
       "      <td>120000</td>\n",
       "      <td>1.337303</td>\n",
       "    </tr>\n",
       "    <tr>\n",
       "      <th>2</th>\n",
       "      <td>양현종</td>\n",
       "      <td>KIA</td>\n",
       "      <td>4.348918</td>\n",
       "      <td>0.907751</td>\n",
       "      <td>-0.306452</td>\n",
       "      <td>-0.585705</td>\n",
       "      <td>-0.543592</td>\n",
       "      <td>0.111056</td>\n",
       "      <td>2.554632</td>\n",
       "      <td>2.706808</td>\n",
       "      <td>...</td>\n",
       "      <td>-0.412886</td>\n",
       "      <td>-0.095595</td>\n",
       "      <td>0.308584</td>\n",
       "      <td>-0.625456</td>\n",
       "      <td>2.973948</td>\n",
       "      <td>-0.837415</td>\n",
       "      <td>-0.866361</td>\n",
       "      <td>3.761956</td>\n",
       "      <td>230000</td>\n",
       "      <td>5.329881</td>\n",
       "    </tr>\n",
       "    <tr>\n",
       "      <th>3</th>\n",
       "      <td>차우찬</td>\n",
       "      <td>LG</td>\n",
       "      <td>1.760682</td>\n",
       "      <td>1.227145</td>\n",
       "      <td>-0.306452</td>\n",
       "      <td>-0.585705</td>\n",
       "      <td>-0.543592</td>\n",
       "      <td>-0.043811</td>\n",
       "      <td>2.246942</td>\n",
       "      <td>2.350927</td>\n",
       "      <td>...</td>\n",
       "      <td>-0.186746</td>\n",
       "      <td>-0.477680</td>\n",
       "      <td>0.558765</td>\n",
       "      <td>-0.627856</td>\n",
       "      <td>2.740722</td>\n",
       "      <td>-0.698455</td>\n",
       "      <td>-0.760385</td>\n",
       "      <td>2.998081</td>\n",
       "      <td>100000</td>\n",
       "      <td>3.333592</td>\n",
       "    </tr>\n",
       "    <tr>\n",
       "      <th>4</th>\n",
       "      <td>레일리</td>\n",
       "      <td>롯데</td>\n",
       "      <td>2.537153</td>\n",
       "      <td>1.227145</td>\n",
       "      <td>-0.306452</td>\n",
       "      <td>-0.585705</td>\n",
       "      <td>-0.543592</td>\n",
       "      <td>0.059433</td>\n",
       "      <td>2.452068</td>\n",
       "      <td>2.587518</td>\n",
       "      <td>...</td>\n",
       "      <td>-0.294900</td>\n",
       "      <td>-0.196735</td>\n",
       "      <td>0.481122</td>\n",
       "      <td>-0.539055</td>\n",
       "      <td>2.751570</td>\n",
       "      <td>-0.612941</td>\n",
       "      <td>-0.619085</td>\n",
       "      <td>2.809003</td>\n",
       "      <td>111000</td>\n",
       "      <td>2.734705</td>\n",
       "    </tr>\n",
       "  </tbody>\n",
       "</table>\n",
       "<p>5 rows × 22 columns</p>\n",
       "</div>"
      ],
      "text/plain": [
       "   선수명   팀명         승         패         세        홀드        블론        경기  \\\n",
       "0   켈리   SK  3.313623  1.227145 -0.306452 -0.585705 -0.543592  0.059433   \n",
       "1   소사   LG  2.019505  2.504721 -0.098502 -0.585705 -0.543592  0.059433   \n",
       "2  양현종  KIA  4.348918  0.907751 -0.306452 -0.585705 -0.543592  0.111056   \n",
       "3  차우찬   LG  1.760682  1.227145 -0.306452 -0.585705 -0.543592 -0.043811   \n",
       "4  레일리   롯데  2.537153  1.227145 -0.306452 -0.585705 -0.543592  0.059433   \n",
       "\n",
       "         선발        이닝  ...      홈런/9     BABIP      LOB%       ERA   RA9-WAR  \\\n",
       "0  2.452068  2.645175  ... -0.442382  0.016783  0.446615 -0.587056  3.174630   \n",
       "1  2.349505  2.547755  ... -0.668521 -0.241686 -0.122764 -0.519855  3.114968   \n",
       "2  2.554632  2.706808  ... -0.412886 -0.095595  0.308584 -0.625456  2.973948   \n",
       "3  2.246942  2.350927  ... -0.186746 -0.477680  0.558765 -0.627856  2.740722   \n",
       "4  2.452068  2.587518  ... -0.294900 -0.196735  0.481122 -0.539055  2.751570   \n",
       "\n",
       "        FIP      kFIP       WAR       y  연봉(2017)  \n",
       "0 -0.971030 -1.058125  4.503142  140000  2.734705  \n",
       "1 -1.061888 -1.073265  4.094734  120000  1.337303  \n",
       "2 -0.837415 -0.866361  3.761956  230000  5.329881  \n",
       "3 -0.698455 -0.760385  2.998081  100000  3.333592  \n",
       "4 -0.612941 -0.619085  2.809003  111000  2.734705  \n",
       "\n",
       "[5 rows x 22 columns]"
      ]
     },
     "execution_count": 12,
     "metadata": {},
     "output_type": "execute_result"
    }
   ],
   "source": [
    "picher_df = picher.rename(columns={'연봉(2018)': 'y'}) #2018 연봉을 y값으로 설정하기 위해 이름 변경\n",
    "picher_df.head(5)"
   ]
  },
  {
   "cell_type": "markdown",
   "id": "821ef5af",
   "metadata": {},
   "source": [
    "'연봉(2018)' 데이터는 y값으로 나타낸다.    \n",
    "스케일링이 된 상위 5개 데이터들을 출력한다. "
   ]
  },
  {
   "cell_type": "code",
   "execution_count": 13,
   "id": "cac47d61",
   "metadata": {
    "scrolled": false
   },
   "outputs": [
    {
     "data": {
      "text/plain": [
       "<AxesSubplot:>"
      ]
     },
     "execution_count": 13,
     "metadata": {},
     "output_type": "execute_result"
    },
    {
     "data": {
      "image/png": "[encoded data removed]",
      "text/plain": [
       "<Figure size 432x288 with 1 Axes>"
      ]
     },
     "metadata": {
      "needs_background": "light"
     },
     "output_type": "display_data"
    }
   ],
   "source": [
    "picher_df['승'].hist(bins=100)"
   ]
  },
  {
   "cell_type": "markdown",
   "id": "60056cc9",
   "metadata": {},
   "source": [
    "스케일링 전의 그래프와 다르게 그래프의 정의역의 크기가 작아진 것을 볼 수 있다. "
   ]
  },
  {
   "cell_type": "code",
   "execution_count": 14,
   "id": "be70e253",
   "metadata": {},
   "outputs": [],
   "source": [
    "team_encoding = pd.get_dummies(picher_df['팀명'])\n",
    "picher_df = picher_df.drop('팀명', axis=1)\n",
    "picher_df = picher_df.join(team_encoding)"
   ]
  },
  {
   "cell_type": "code",
   "execution_count": 15,
   "id": "da91da7c",
   "metadata": {},
   "outputs": [
    {
     "data": {
      "text/html": [
       "<div>\n",
       "<style scoped>\n",
       "    .dataframe tbody tr th:only-of-type {\n",
       "        vertical-align: middle;\n",
       "    }\n",
       "\n",
       "    .dataframe tbody tr th {\n",
       "        vertical-align: top;\n",
       "    }\n",
       "\n",
       "    .dataframe thead th {\n",
       "        text-align: right;\n",
       "    }\n",
       "</style>\n",
       "<table border=\"1\" class=\"dataframe\">\n",
       "  <thead>\n",
       "    <tr style=\"text-align: right;\">\n",
       "      <th></th>\n",
       "      <th>KIA</th>\n",
       "      <th>KT</th>\n",
       "      <th>LG</th>\n",
       "      <th>NC</th>\n",
       "      <th>SK</th>\n",
       "      <th>두산</th>\n",
       "      <th>롯데</th>\n",
       "      <th>삼성</th>\n",
       "      <th>한화</th>\n",
       "    </tr>\n",
       "  </thead>\n",
       "  <tbody>\n",
       "    <tr>\n",
       "      <th>0</th>\n",
       "      <td>0</td>\n",
       "      <td>0</td>\n",
       "      <td>0</td>\n",
       "      <td>0</td>\n",
       "      <td>1</td>\n",
       "      <td>0</td>\n",
       "      <td>0</td>\n",
       "      <td>0</td>\n",
       "      <td>0</td>\n",
       "    </tr>\n",
       "    <tr>\n",
       "      <th>1</th>\n",
       "      <td>0</td>\n",
       "      <td>0</td>\n",
       "      <td>1</td>\n",
       "      <td>0</td>\n",
       "      <td>0</td>\n",
       "      <td>0</td>\n",
       "      <td>0</td>\n",
       "      <td>0</td>\n",
       "      <td>0</td>\n",
       "    </tr>\n",
       "    <tr>\n",
       "      <th>2</th>\n",
       "      <td>1</td>\n",
       "      <td>0</td>\n",
       "      <td>0</td>\n",
       "      <td>0</td>\n",
       "      <td>0</td>\n",
       "      <td>0</td>\n",
       "      <td>0</td>\n",
       "      <td>0</td>\n",
       "      <td>0</td>\n",
       "    </tr>\n",
       "    <tr>\n",
       "      <th>3</th>\n",
       "      <td>0</td>\n",
       "      <td>0</td>\n",
       "      <td>1</td>\n",
       "      <td>0</td>\n",
       "      <td>0</td>\n",
       "      <td>0</td>\n",
       "      <td>0</td>\n",
       "      <td>0</td>\n",
       "      <td>0</td>\n",
       "    </tr>\n",
       "    <tr>\n",
       "      <th>4</th>\n",
       "      <td>0</td>\n",
       "      <td>0</td>\n",
       "      <td>0</td>\n",
       "      <td>0</td>\n",
       "      <td>0</td>\n",
       "      <td>0</td>\n",
       "      <td>1</td>\n",
       "      <td>0</td>\n",
       "      <td>0</td>\n",
       "    </tr>\n",
       "  </tbody>\n",
       "</table>\n",
       "</div>"
      ],
      "text/plain": [
       "   KIA  KT  LG  NC  SK  두산  롯데  삼성  한화\n",
       "0    0   0   0   0   1   0   0   0   0\n",
       "1    0   0   1   0   0   0   0   0   0\n",
       "2    1   0   0   0   0   0   0   0   0\n",
       "3    0   0   1   0   0   0   0   0   0\n",
       "4    0   0   0   0   0   0   1   0   0"
      ]
     },
     "execution_count": 15,
     "metadata": {},
     "output_type": "execute_result"
    }
   ],
   "source": [
    "team_encoding.head()"
   ]
  },
  {
   "cell_type": "markdown",
   "id": "8ecde317",
   "metadata": {},
   "source": [
    "연봉에 영향을 주는 팀명을 컴퓨터가 그대로 이해하지 못하므로 팀명을 one hot encoding으로 변환한다.   \n",
    "LG의 경우 [001000000]로 나타낸다."
   ]
  },
  {
   "cell_type": "code",
   "execution_count": 16,
   "id": "0b6e6233",
   "metadata": {
    "scrolled": true
   },
   "outputs": [
    {
     "data": {
      "text/html": [
       "<div>\n",
       "<style scoped>\n",
       "    .dataframe tbody tr th:only-of-type {\n",
       "        vertical-align: middle;\n",
       "    }\n",
       "\n",
       "    .dataframe tbody tr th {\n",
       "        vertical-align: top;\n",
       "    }\n",
       "\n",
       "    .dataframe thead th {\n",
       "        text-align: right;\n",
       "    }\n",
       "</style>\n",
       "<table border=\"1\" class=\"dataframe\">\n",
       "  <thead>\n",
       "    <tr style=\"text-align: right;\">\n",
       "      <th></th>\n",
       "      <th>선수명</th>\n",
       "      <th>승</th>\n",
       "      <th>패</th>\n",
       "      <th>세</th>\n",
       "      <th>홀드</th>\n",
       "      <th>블론</th>\n",
       "      <th>경기</th>\n",
       "      <th>선발</th>\n",
       "      <th>이닝</th>\n",
       "      <th>삼진/9</th>\n",
       "      <th>...</th>\n",
       "      <th>연봉(2017)</th>\n",
       "      <th>KIA</th>\n",
       "      <th>KT</th>\n",
       "      <th>LG</th>\n",
       "      <th>NC</th>\n",
       "      <th>SK</th>\n",
       "      <th>두산</th>\n",
       "      <th>롯데</th>\n",
       "      <th>삼성</th>\n",
       "      <th>한화</th>\n",
       "    </tr>\n",
       "  </thead>\n",
       "  <tbody>\n",
       "    <tr>\n",
       "      <th>0</th>\n",
       "      <td>켈리</td>\n",
       "      <td>3.313623</td>\n",
       "      <td>1.227145</td>\n",
       "      <td>-0.306452</td>\n",
       "      <td>-0.585705</td>\n",
       "      <td>-0.543592</td>\n",
       "      <td>0.059433</td>\n",
       "      <td>2.452068</td>\n",
       "      <td>2.645175</td>\n",
       "      <td>0.672099</td>\n",
       "      <td>...</td>\n",
       "      <td>2.734705</td>\n",
       "      <td>0</td>\n",
       "      <td>0</td>\n",
       "      <td>0</td>\n",
       "      <td>0</td>\n",
       "      <td>1</td>\n",
       "      <td>0</td>\n",
       "      <td>0</td>\n",
       "      <td>0</td>\n",
       "      <td>0</td>\n",
       "    </tr>\n",
       "    <tr>\n",
       "      <th>1</th>\n",
       "      <td>소사</td>\n",
       "      <td>2.019505</td>\n",
       "      <td>2.504721</td>\n",
       "      <td>-0.098502</td>\n",
       "      <td>-0.585705</td>\n",
       "      <td>-0.543592</td>\n",
       "      <td>0.059433</td>\n",
       "      <td>2.349505</td>\n",
       "      <td>2.547755</td>\n",
       "      <td>0.134531</td>\n",
       "      <td>...</td>\n",
       "      <td>1.337303</td>\n",
       "      <td>0</td>\n",
       "      <td>0</td>\n",
       "      <td>1</td>\n",
       "      <td>0</td>\n",
       "      <td>0</td>\n",
       "      <td>0</td>\n",
       "      <td>0</td>\n",
       "      <td>0</td>\n",
       "      <td>0</td>\n",
       "    </tr>\n",
       "    <tr>\n",
       "      <th>2</th>\n",
       "      <td>양현종</td>\n",
       "      <td>4.348918</td>\n",
       "      <td>0.907751</td>\n",
       "      <td>-0.306452</td>\n",
       "      <td>-0.585705</td>\n",
       "      <td>-0.543592</td>\n",
       "      <td>0.111056</td>\n",
       "      <td>2.554632</td>\n",
       "      <td>2.706808</td>\n",
       "      <td>0.109775</td>\n",
       "      <td>...</td>\n",
       "      <td>5.329881</td>\n",
       "      <td>1</td>\n",
       "      <td>0</td>\n",
       "      <td>0</td>\n",
       "      <td>0</td>\n",
       "      <td>0</td>\n",
       "      <td>0</td>\n",
       "      <td>0</td>\n",
       "      <td>0</td>\n",
       "      <td>0</td>\n",
       "    </tr>\n",
       "    <tr>\n",
       "      <th>3</th>\n",
       "      <td>차우찬</td>\n",
       "      <td>1.760682</td>\n",
       "      <td>1.227145</td>\n",
       "      <td>-0.306452</td>\n",
       "      <td>-0.585705</td>\n",
       "      <td>-0.543592</td>\n",
       "      <td>-0.043811</td>\n",
       "      <td>2.246942</td>\n",
       "      <td>2.350927</td>\n",
       "      <td>0.350266</td>\n",
       "      <td>...</td>\n",
       "      <td>3.333592</td>\n",
       "      <td>0</td>\n",
       "      <td>0</td>\n",
       "      <td>1</td>\n",
       "      <td>0</td>\n",
       "      <td>0</td>\n",
       "      <td>0</td>\n",
       "      <td>0</td>\n",
       "      <td>0</td>\n",
       "      <td>0</td>\n",
       "    </tr>\n",
       "    <tr>\n",
       "      <th>4</th>\n",
       "      <td>레일리</td>\n",
       "      <td>2.537153</td>\n",
       "      <td>1.227145</td>\n",
       "      <td>-0.306452</td>\n",
       "      <td>-0.585705</td>\n",
       "      <td>-0.543592</td>\n",
       "      <td>0.059433</td>\n",
       "      <td>2.452068</td>\n",
       "      <td>2.587518</td>\n",
       "      <td>0.155751</td>\n",
       "      <td>...</td>\n",
       "      <td>2.734705</td>\n",
       "      <td>0</td>\n",
       "      <td>0</td>\n",
       "      <td>0</td>\n",
       "      <td>0</td>\n",
       "      <td>0</td>\n",
       "      <td>0</td>\n",
       "      <td>1</td>\n",
       "      <td>0</td>\n",
       "      <td>0</td>\n",
       "    </tr>\n",
       "    <tr>\n",
       "      <th>...</th>\n",
       "      <td>...</td>\n",
       "      <td>...</td>\n",
       "      <td>...</td>\n",
       "      <td>...</td>\n",
       "      <td>...</td>\n",
       "      <td>...</td>\n",
       "      <td>...</td>\n",
       "      <td>...</td>\n",
       "      <td>...</td>\n",
       "      <td>...</td>\n",
       "      <td>...</td>\n",
       "      <td>...</td>\n",
       "      <td>...</td>\n",
       "      <td>...</td>\n",
       "      <td>...</td>\n",
       "      <td>...</td>\n",
       "      <td>...</td>\n",
       "      <td>...</td>\n",
       "      <td>...</td>\n",
       "      <td>...</td>\n",
       "      <td>...</td>\n",
       "    </tr>\n",
       "    <tr>\n",
       "      <th>147</th>\n",
       "      <td>장민재</td>\n",
       "      <td>-0.309907</td>\n",
       "      <td>0.588357</td>\n",
       "      <td>-0.306452</td>\n",
       "      <td>-0.585705</td>\n",
       "      <td>0.680497</td>\n",
       "      <td>0.214300</td>\n",
       "      <td>-0.112010</td>\n",
       "      <td>0.104300</td>\n",
       "      <td>-0.968896</td>\n",
       "      <td>...</td>\n",
       "      <td>-0.335587</td>\n",
       "      <td>0</td>\n",
       "      <td>0</td>\n",
       "      <td>0</td>\n",
       "      <td>0</td>\n",
       "      <td>0</td>\n",
       "      <td>0</td>\n",
       "      <td>0</td>\n",
       "      <td>0</td>\n",
       "      <td>1</td>\n",
       "    </tr>\n",
       "    <tr>\n",
       "      <th>148</th>\n",
       "      <td>정용운</td>\n",
       "      <td>-0.051084</td>\n",
       "      <td>-0.369825</td>\n",
       "      <td>-0.306452</td>\n",
       "      <td>-0.585705</td>\n",
       "      <td>-0.543592</td>\n",
       "      <td>-0.198678</td>\n",
       "      <td>0.503369</td>\n",
       "      <td>0.042667</td>\n",
       "      <td>-0.777918</td>\n",
       "      <td>...</td>\n",
       "      <td>-0.535215</td>\n",
       "      <td>1</td>\n",
       "      <td>0</td>\n",
       "      <td>0</td>\n",
       "      <td>0</td>\n",
       "      <td>0</td>\n",
       "      <td>0</td>\n",
       "      <td>0</td>\n",
       "      <td>0</td>\n",
       "      <td>0</td>\n",
       "    </tr>\n",
       "    <tr>\n",
       "      <th>149</th>\n",
       "      <td>노경은</td>\n",
       "      <td>-0.827554</td>\n",
       "      <td>-0.369825</td>\n",
       "      <td>-0.306452</td>\n",
       "      <td>-0.585705</td>\n",
       "      <td>-0.543592</td>\n",
       "      <td>-1.024633</td>\n",
       "      <td>-0.419699</td>\n",
       "      <td>-0.850019</td>\n",
       "      <td>-0.756699</td>\n",
       "      <td>...</td>\n",
       "      <td>-0.020173</td>\n",
       "      <td>0</td>\n",
       "      <td>0</td>\n",
       "      <td>0</td>\n",
       "      <td>0</td>\n",
       "      <td>0</td>\n",
       "      <td>0</td>\n",
       "      <td>1</td>\n",
       "      <td>0</td>\n",
       "      <td>0</td>\n",
       "    </tr>\n",
       "    <tr>\n",
       "      <th>150</th>\n",
       "      <td>김승현</td>\n",
       "      <td>-0.827554</td>\n",
       "      <td>-0.050431</td>\n",
       "      <td>-0.306452</td>\n",
       "      <td>-0.364245</td>\n",
       "      <td>-0.543592</td>\n",
       "      <td>0.627278</td>\n",
       "      <td>-0.624825</td>\n",
       "      <td>-0.273451</td>\n",
       "      <td>0.205264</td>\n",
       "      <td>...</td>\n",
       "      <td>-0.543201</td>\n",
       "      <td>0</td>\n",
       "      <td>0</td>\n",
       "      <td>0</td>\n",
       "      <td>0</td>\n",
       "      <td>0</td>\n",
       "      <td>0</td>\n",
       "      <td>0</td>\n",
       "      <td>1</td>\n",
       "      <td>0</td>\n",
       "    </tr>\n",
       "    <tr>\n",
       "      <th>151</th>\n",
       "      <td>류희운</td>\n",
       "      <td>0.207740</td>\n",
       "      <td>0.268963</td>\n",
       "      <td>-0.306452</td>\n",
       "      <td>-0.585705</td>\n",
       "      <td>-0.543592</td>\n",
       "      <td>-0.250300</td>\n",
       "      <td>0.811058</td>\n",
       "      <td>0.478075</td>\n",
       "      <td>-0.449012</td>\n",
       "      <td>...</td>\n",
       "      <td>-0.539208</td>\n",
       "      <td>0</td>\n",
       "      <td>1</td>\n",
       "      <td>0</td>\n",
       "      <td>0</td>\n",
       "      <td>0</td>\n",
       "      <td>0</td>\n",
       "      <td>0</td>\n",
       "      <td>0</td>\n",
       "      <td>0</td>\n",
       "    </tr>\n",
       "  </tbody>\n",
       "</table>\n",
       "<p>152 rows × 30 columns</p>\n",
       "</div>"
      ],
      "text/plain": [
       "     선수명         승         패         세        홀드        블론        경기  \\\n",
       "0     켈리  3.313623  1.227145 -0.306452 -0.585705 -0.543592  0.059433   \n",
       "1     소사  2.019505  2.504721 -0.098502 -0.585705 -0.543592  0.059433   \n",
       "2    양현종  4.348918  0.907751 -0.306452 -0.585705 -0.543592  0.111056   \n",
       "3    차우찬  1.760682  1.227145 -0.306452 -0.585705 -0.543592 -0.043811   \n",
       "4    레일리  2.537153  1.227145 -0.306452 -0.585705 -0.543592  0.059433   \n",
       "..   ...       ...       ...       ...       ...       ...       ...   \n",
       "147  장민재 -0.309907  0.588357 -0.306452 -0.585705  0.680497  0.214300   \n",
       "148  정용운 -0.051084 -0.369825 -0.306452 -0.585705 -0.543592 -0.198678   \n",
       "149  노경은 -0.827554 -0.369825 -0.306452 -0.585705 -0.543592 -1.024633   \n",
       "150  김승현 -0.827554 -0.050431 -0.306452 -0.364245 -0.543592  0.627278   \n",
       "151  류희운  0.207740  0.268963 -0.306452 -0.585705 -0.543592 -0.250300   \n",
       "\n",
       "           선발        이닝      삼진/9  ...  연봉(2017)  KIA  KT  LG  NC  SK  두산  롯데  \\\n",
       "0    2.452068  2.645175  0.672099  ...  2.734705    0   0   0   0   1   0   0   \n",
       "1    2.349505  2.547755  0.134531  ...  1.337303    0   0   1   0   0   0   0   \n",
       "2    2.554632  2.706808  0.109775  ...  5.329881    1   0   0   0   0   0   0   \n",
       "3    2.246942  2.350927  0.350266  ...  3.333592    0   0   1   0   0   0   0   \n",
       "4    2.452068  2.587518  0.155751  ...  2.734705    0   0   0   0   0   0   1   \n",
       "..        ...       ...       ...  ...       ...  ...  ..  ..  ..  ..  ..  ..   \n",
       "147 -0.112010  0.104300 -0.968896  ... -0.335587    0   0   0   0   0   0   0   \n",
       "148  0.503369  0.042667 -0.777918  ... -0.535215    1   0   0   0   0   0   0   \n",
       "149 -0.419699 -0.850019 -0.756699  ... -0.020173    0   0   0   0   0   0   1   \n",
       "150 -0.624825 -0.273451  0.205264  ... -0.543201    0   0   0   0   0   0   0   \n",
       "151  0.811058  0.478075 -0.449012  ... -0.539208    0   1   0   0   0   0   0   \n",
       "\n",
       "     삼성  한화  \n",
       "0     0   0  \n",
       "1     0   0  \n",
       "2     0   0  \n",
       "3     0   0  \n",
       "4     0   0  \n",
       "..   ..  ..  \n",
       "147   0   1  \n",
       "148   0   0  \n",
       "149   0   0  \n",
       "150   1   0  \n",
       "151   0   0  \n",
       "\n",
       "[152 rows x 30 columns]"
      ]
     },
     "execution_count": 16,
     "metadata": {},
     "output_type": "execute_result"
    }
   ],
   "source": [
    "picher_df"
   ]
  },
  {
   "cell_type": "markdown",
   "id": "fcbbfc7e",
   "metadata": {},
   "source": [
    "스케일링과 팀명 변환까지 완료된 데이터셋이다."
   ]
  },
  {
   "cell_type": "code",
   "execution_count": 17,
   "id": "8ddf581c",
   "metadata": {},
   "outputs": [],
   "source": [
    "from sklearn.model_selection import train_test_split\n",
    "\n",
    "\n",
    "x = picher_df[picher_df.columns.difference(['선수명', 'y'])] #선수명 ,y를 제외한 나머지 컬럼 인덱스\n",
    "y = picher_df['y']\n",
    "X_train, X_test, y_train, y_test = train_test_split(x, y, test_size=0.3, random_state=19)"
   ]
  },
  {
   "cell_type": "markdown",
   "id": "f85faccd",
   "metadata": {},
   "source": [
    "sklearn을 이용하여 train셋과 test셋을 분리시켜준다.   \n",
    "X에 '선수명'과 'y'를 제외한 나머지 컬럼들을 인덱스해주고 y에는 'y'를 인덱스해준다.   \n",
    "test_size, 즉 test셋으로 분리될 데이터들은 전체 데이터의 30퍼센트인 0.3으로 설정해준다."
   ]
  },
  {
   "cell_type": "code",
   "execution_count": 18,
   "id": "53752ea3",
   "metadata": {
    "scrolled": true
   },
   "outputs": [
    {
     "data": {
      "text/plain": [
       "(106, 28)"
      ]
     },
     "execution_count": 18,
     "metadata": {},
     "output_type": "execute_result"
    }
   ],
   "source": [
    "X_train.shape"
   ]
  },
  {
   "cell_type": "code",
   "execution_count": 19,
   "id": "aa2eaa56",
   "metadata": {},
   "outputs": [
    {
     "data": {
      "text/plain": [
       "(46, 28)"
      ]
     },
     "execution_count": 19,
     "metadata": {},
     "output_type": "execute_result"
    }
   ],
   "source": [
    "X_test.shape"
   ]
  },
  {
   "cell_type": "code",
   "execution_count": 20,
   "id": "a9840c71",
   "metadata": {},
   "outputs": [
    {
     "data": {
      "text/plain": [
       "(106, 28)"
      ]
     },
     "execution_count": 20,
     "metadata": {},
     "output_type": "execute_result"
    }
   ],
   "source": [
    "X_train.shape"
   ]
  },
  {
   "cell_type": "code",
   "execution_count": 21,
   "id": "e728e2b0",
   "metadata": {},
   "outputs": [
    {
     "data": {
      "text/plain": [
       "(106,)"
      ]
     },
     "execution_count": 21,
     "metadata": {},
     "output_type": "execute_result"
    }
   ],
   "source": [
    "y_train.shape"
   ]
  },
  {
   "cell_type": "code",
   "execution_count": 22,
   "id": "8a5d8842",
   "metadata": {
    "scrolled": false
   },
   "outputs": [
    {
     "name": "stderr",
     "output_type": "stream",
     "text": [
      "c:\\users\\user\\appdata\\local\\programs\\python\\python37\\lib\\site-packages\\tensorflow\\python\\framework\\dtypes.py:526: FutureWarning: Passing (type, 1) or '1type' as a synonym of type is deprecated; in a future version of numpy, it will be understood as (type, (1,)) / '(1,)type'.\n",
      "  _np_qint8 = np.dtype([(\"qint8\", np.int8, 1)])\n",
      "c:\\users\\user\\appdata\\local\\programs\\python\\python37\\lib\\site-packages\\tensorflow\\python\\framework\\dtypes.py:527: FutureWarning: Passing (type, 1) or '1type' as a synonym of type is deprecated; in a future version of numpy, it will be understood as (type, (1,)) / '(1,)type'.\n",
      "  _np_quint8 = np.dtype([(\"quint8\", np.uint8, 1)])\n",
      "c:\\users\\user\\appdata\\local\\programs\\python\\python37\\lib\\site-packages\\tensorflow\\python\\framework\\dtypes.py:528: FutureWarning: Passing (type, 1) or '1type' as a synonym of type is deprecated; in a future version of numpy, it will be understood as (type, (1,)) / '(1,)type'.\n",
      "  _np_qint16 = np.dtype([(\"qint16\", np.int16, 1)])\n",
      "c:\\users\\user\\appdata\\local\\programs\\python\\python37\\lib\\site-packages\\tensorflow\\python\\framework\\dtypes.py:529: FutureWarning: Passing (type, 1) or '1type' as a synonym of type is deprecated; in a future version of numpy, it will be understood as (type, (1,)) / '(1,)type'.\n",
      "  _np_quint16 = np.dtype([(\"quint16\", np.uint16, 1)])\n",
      "c:\\users\\user\\appdata\\local\\programs\\python\\python37\\lib\\site-packages\\tensorflow\\python\\framework\\dtypes.py:530: FutureWarning: Passing (type, 1) or '1type' as a synonym of type is deprecated; in a future version of numpy, it will be understood as (type, (1,)) / '(1,)type'.\n",
      "  _np_qint32 = np.dtype([(\"qint32\", np.int32, 1)])\n",
      "c:\\users\\user\\appdata\\local\\programs\\python\\python37\\lib\\site-packages\\tensorflow\\python\\framework\\dtypes.py:535: FutureWarning: Passing (type, 1) or '1type' as a synonym of type is deprecated; in a future version of numpy, it will be understood as (type, (1,)) / '(1,)type'.\n",
      "  np_resource = np.dtype([(\"resource\", np.ubyte, 1)])\n"
     ]
    }
   ],
   "source": [
    "import tensorflow as tf"
   ]
  },
  {
   "cell_type": "markdown",
   "id": "9021c8a7",
   "metadata": {},
   "source": [
    "딥러닝을 사용할 것이므로 딥러닝에 자주 사용되는 모듈인 텐서플로우를 import해준다. "
   ]
  },
  {
   "cell_type": "code",
   "execution_count": 23,
   "id": "8259a6cd",
   "metadata": {},
   "outputs": [
    {
     "name": "stdout",
     "output_type": "stream",
     "text": [
      "WARNING:tensorflow:From c:\\users\\user\\appdata\\local\\programs\\python\\python37\\lib\\site-packages\\tensorflow\\python\\framework\\op_def_library.py:263: colocate_with (from tensorflow.python.framework.ops) is deprecated and will be removed in a future version.\n",
      "Instructions for updating:\n",
      "Colocations handled automatically by placer.\n"
     ]
    }
   ],
   "source": [
    "X = tf.placeholder(tf.float32, shape=[None,28])\n",
    "Y = tf.placeholder(tf.float32, shape=[None])\n",
    "\n",
    "W = tf.Variable(tf.random_normal([28,1]))\n",
    "b = tf.Variable(tf.random_normal([1]))"
   ]
  },
  {
   "cell_type": "markdown",
   "id": "8bc335c9",
   "metadata": {},
   "source": [
    "X값과 Y값은 코드를 먼저 구축한 후 나중에 대입하기 위해 `placeholder`를 사용하여 임시로 설정해준다.   \n",
    "W값과 b값은 변수이므로 `Variable`을 사용하여 만들어준다."
   ]
  },
  {
   "cell_type": "code",
   "execution_count": 24,
   "id": "a85b4418",
   "metadata": {},
   "outputs": [],
   "source": [
    "hypothesis = tf.matmul(X,W)+b"
   ]
  },
  {
   "cell_type": "markdown",
   "id": "f496fedf",
   "metadata": {},
   "source": [
    "$\\hat{y} = XW + b$ 인 linear regression 함수를 사용하여 hypothesis를 설정해준다.    \n",
    "X와 W는 메트릭스이므로 `matmul()`함수를 사용하여 곱해준다."
   ]
  },
  {
   "cell_type": "code",
   "execution_count": 25,
   "id": "b03ae470",
   "metadata": {},
   "outputs": [],
   "source": [
    "cost = tf.reduce_mean(tf.square(hypothesis - Y))"
   ]
  },
  {
   "cell_type": "markdown",
   "id": "a06056fb",
   "metadata": {},
   "source": [
    "$\\frac{1}{n}\\Sigma(\\hat{y} - y)^2$ 인 cost함수를 설정한다.    \n",
    "이를 사용하면서 차원이 줄어든다."
   ]
  },
  {
   "cell_type": "code",
   "execution_count": 26,
   "id": "bb9b628b",
   "metadata": {},
   "outputs": [],
   "source": [
    "train = tf.train.GradientDescentOptimizer(learning_rate=.0003).minimize(cost)"
   ]
  },
  {
   "cell_type": "markdown",
   "id": "4a8896ef",
   "metadata": {},
   "source": [
    "`tf.train.GradientDescentOptimizer()`를 사용하여 cost값을 minimize한다.   \n",
    "learning_rate는 바꿔가며 적절한 값을 찾는다."
   ]
  },
  {
   "cell_type": "code",
   "execution_count": 27,
   "id": "42231aa0",
   "metadata": {},
   "outputs": [
    {
     "name": "stdout",
     "output_type": "stream",
     "text": [
      "0 1012787100.0\n",
      "200 931598100.0\n",
      "400 871063360.0\n",
      "600 825393540.0\n",
      "800 790697200.0\n",
      "1000 764229400.0\n",
      "1200 743987300.0\n",
      "1400 728482400.0\n",
      "1600 716593300.0\n",
      "1800 707469760.0\n",
      "2000 700463800.0\n",
      "2200 695081000.0\n",
      "2400 690942700.0\n",
      "2600 687759500.0\n",
      "2800 685308900.0\n",
      "3000 683421400.0\n",
      "3200 681966100.0\n",
      "3400 680843000.0\n",
      "3600 679975500.0\n",
      "3800 679304100.0\n",
      "4000 678784260.0\n",
      "4200 678380740.0\n",
      "4400 678067400.0\n",
      "4600 677823170.0\n",
      "4800 677632300.0\n",
      "5000 677483000.0\n",
      "5200 677365600.0\n",
      "5400 677273000.0\n",
      "5600 677200100.0\n",
      "5800 677141700.0\n",
      "6000 677095200.0\n",
      "6200 677057600.0\n",
      "6400 677027140.0\n",
      "6600 677002700.0\n",
      "6800 676982460.0\n",
      "7000 676965440.0\n",
      "7200 676951700.0\n",
      "7400 676939800.0\n",
      "7600 676930050.0\n",
      "7800 676921340.0\n",
      "8000 676914200.0\n",
      "8200 676907700.0\n",
      "8400 676902200.0\n",
      "8600 676897100.0\n",
      "8800 676892740.0\n",
      "9000 676888500.0\n",
      "9200 676884860.0\n",
      "9400 676881700.0\n",
      "9600 676878460.0\n",
      "9800 676875800.0\n",
      "10000 676873100.0\n",
      "\n",
      "Hypothesis:  [[18766.441]\n",
      " [17940.992]\n",
      " [18453.443]\n",
      " [18159.17 ]\n",
      " [18417.113]\n",
      " [18305.07 ]\n",
      " [17700.752]\n",
      " [17875.342]\n",
      " [18007.617]\n",
      " [17957.363]\n",
      " [18110.85 ]\n",
      " [18614.758]\n",
      " [18254.826]\n",
      " [17711.846]\n",
      " [17896.992]\n",
      " [18213.463]\n",
      " [18218.738]\n",
      " [18023.271]\n",
      " [18276.941]\n",
      " [17658.744]\n",
      " [18142.738]\n",
      " [18388.2  ]\n",
      " [18421.855]\n",
      " [18253.672]\n",
      " [18240.785]\n",
      " [17866.049]\n",
      " [18487.623]\n",
      " [17957.895]\n",
      " [18506.742]\n",
      " [18008.342]\n",
      " [18513.734]\n",
      " [18059.225]\n",
      " [18087.883]\n",
      " [18018.29 ]\n",
      " [17727.81 ]\n",
      " [18168.39 ]\n",
      " [17479.24 ]\n",
      " [18096.318]\n",
      " [17406.104]\n",
      " [17895.973]\n",
      " [18247.906]\n",
      " [17942.334]\n",
      " [18311.688]\n",
      " [18007.86 ]\n",
      " [17465.96 ]\n",
      " [17863.7  ]]\n"
     ]
    }
   ],
   "source": [
    "with tf.Session() as sess:\n",
    "    sess.run(tf.global_variables_initializer()) #세션을 열어준다\n",
    "\n",
    "    for step in range(10001): #train셋\n",
    "        cost_val, _ = sess.run([cost, train], feed_dict={X: X_train, Y: y_train}) #X값에 X_train 대입, Y값에 y_train 대입\n",
    "        if step % 200 == 0: #200번에 한번씩 결과값 출력\n",
    "            print(step, cost_val)\n",
    "\n",
    "    h,W,b = sess.run([hypothesis,W,b],feed_dict={X: X_test, Y: y_test}) #test셋, X값에 X_test 대입, Y값에 y_test 대입\n",
    "    print(\"\\nHypothesis: \", h)"
   ]
  },
  {
   "cell_type": "code",
   "execution_count": 28,
   "id": "1e9ce8c2",
   "metadata": {
    "scrolled": true
   },
   "outputs": [
    {
     "data": {
      "text/html": [
       "<div>\n",
       "<style scoped>\n",
       "    .dataframe tbody tr th:only-of-type {\n",
       "        vertical-align: middle;\n",
       "    }\n",
       "\n",
       "    .dataframe tbody tr th {\n",
       "        vertical-align: top;\n",
       "    }\n",
       "\n",
       "    .dataframe thead th {\n",
       "        text-align: right;\n",
       "    }\n",
       "</style>\n",
       "<table border=\"1\" class=\"dataframe\">\n",
       "  <thead>\n",
       "    <tr style=\"text-align: right;\">\n",
       "      <th></th>\n",
       "      <th>0</th>\n",
       "      <th>1</th>\n",
       "    </tr>\n",
       "  </thead>\n",
       "  <tbody>\n",
       "    <tr>\n",
       "      <th>0</th>\n",
       "      <td>BABIP</td>\n",
       "      <td>[-1.8991873]</td>\n",
       "    </tr>\n",
       "    <tr>\n",
       "      <th>1</th>\n",
       "      <td>ERA</td>\n",
       "      <td>[241.58405]</td>\n",
       "    </tr>\n",
       "    <tr>\n",
       "      <th>2</th>\n",
       "      <td>FIP</td>\n",
       "      <td>[-18.205677]</td>\n",
       "    </tr>\n",
       "    <tr>\n",
       "      <th>3</th>\n",
       "      <td>KIA</td>\n",
       "      <td>[1919.076]</td>\n",
       "    </tr>\n",
       "    <tr>\n",
       "      <th>4</th>\n",
       "      <td>KT</td>\n",
       "      <td>[1779.2285]</td>\n",
       "    </tr>\n",
       "    <tr>\n",
       "      <th>5</th>\n",
       "      <td>LG</td>\n",
       "      <td>[1551.3867]</td>\n",
       "    </tr>\n",
       "    <tr>\n",
       "      <th>6</th>\n",
       "      <td>LOB%</td>\n",
       "      <td>[181.55801]</td>\n",
       "    </tr>\n",
       "    <tr>\n",
       "      <th>7</th>\n",
       "      <td>NC</td>\n",
       "      <td>[1749.9974]</td>\n",
       "    </tr>\n",
       "    <tr>\n",
       "      <th>8</th>\n",
       "      <td>RA9-WAR</td>\n",
       "      <td>[-105.62932]</td>\n",
       "    </tr>\n",
       "    <tr>\n",
       "      <th>9</th>\n",
       "      <td>SK</td>\n",
       "      <td>[2079.7664]</td>\n",
       "    </tr>\n",
       "    <tr>\n",
       "      <th>10</th>\n",
       "      <td>WAR</td>\n",
       "      <td>[-163.46428]</td>\n",
       "    </tr>\n",
       "    <tr>\n",
       "      <th>11</th>\n",
       "      <td>kFIP</td>\n",
       "      <td>[8.409369]</td>\n",
       "    </tr>\n",
       "    <tr>\n",
       "      <th>12</th>\n",
       "      <td>경기</td>\n",
       "      <td>[218.3907]</td>\n",
       "    </tr>\n",
       "    <tr>\n",
       "      <th>13</th>\n",
       "      <td>두산</td>\n",
       "      <td>[1701.5587]</td>\n",
       "    </tr>\n",
       "    <tr>\n",
       "      <th>14</th>\n",
       "      <td>롯데</td>\n",
       "      <td>[1783.5442]</td>\n",
       "    </tr>\n",
       "    <tr>\n",
       "      <th>15</th>\n",
       "      <td>볼넷/9</td>\n",
       "      <td>[32.75957]</td>\n",
       "    </tr>\n",
       "    <tr>\n",
       "      <th>16</th>\n",
       "      <td>블론</td>\n",
       "      <td>[-25.3104]</td>\n",
       "    </tr>\n",
       "    <tr>\n",
       "      <th>17</th>\n",
       "      <td>삼성</td>\n",
       "      <td>[1746.5684]</td>\n",
       "    </tr>\n",
       "    <tr>\n",
       "      <th>18</th>\n",
       "      <td>삼진/9</td>\n",
       "      <td>[-67.65961]</td>\n",
       "    </tr>\n",
       "    <tr>\n",
       "      <th>19</th>\n",
       "      <td>선발</td>\n",
       "      <td>[42.5729]</td>\n",
       "    </tr>\n",
       "    <tr>\n",
       "      <th>20</th>\n",
       "      <td>세</td>\n",
       "      <td>[-65.031555]</td>\n",
       "    </tr>\n",
       "    <tr>\n",
       "      <th>21</th>\n",
       "      <td>승</td>\n",
       "      <td>[-28.802504]</td>\n",
       "    </tr>\n",
       "    <tr>\n",
       "      <th>22</th>\n",
       "      <td>연봉(2017)</td>\n",
       "      <td>[160.8636]</td>\n",
       "    </tr>\n",
       "    <tr>\n",
       "      <th>23</th>\n",
       "      <td>이닝</td>\n",
       "      <td>[234.796]</td>\n",
       "    </tr>\n",
       "    <tr>\n",
       "      <th>24</th>\n",
       "      <td>패</td>\n",
       "      <td>[-163.93466]</td>\n",
       "    </tr>\n",
       "    <tr>\n",
       "      <th>25</th>\n",
       "      <td>한화</td>\n",
       "      <td>[2092.8796]</td>\n",
       "    </tr>\n",
       "    <tr>\n",
       "      <th>26</th>\n",
       "      <td>홀드</td>\n",
       "      <td>[-81.75767]</td>\n",
       "    </tr>\n",
       "    <tr>\n",
       "      <th>27</th>\n",
       "      <td>홈런/9</td>\n",
       "      <td>[-155.16437]</td>\n",
       "    </tr>\n",
       "  </tbody>\n",
       "</table>\n",
       "</div>"
      ],
      "text/plain": [
       "           0             1\n",
       "0      BABIP  [-1.8991873]\n",
       "1        ERA   [241.58405]\n",
       "2        FIP  [-18.205677]\n",
       "3        KIA    [1919.076]\n",
       "4         KT   [1779.2285]\n",
       "5         LG   [1551.3867]\n",
       "6       LOB%   [181.55801]\n",
       "7         NC   [1749.9974]\n",
       "8    RA9-WAR  [-105.62932]\n",
       "9         SK   [2079.7664]\n",
       "10       WAR  [-163.46428]\n",
       "11      kFIP    [8.409369]\n",
       "12        경기    [218.3907]\n",
       "13        두산   [1701.5587]\n",
       "14        롯데   [1783.5442]\n",
       "15      볼넷/9    [32.75957]\n",
       "16        블론    [-25.3104]\n",
       "17        삼성   [1746.5684]\n",
       "18      삼진/9   [-67.65961]\n",
       "19        선발     [42.5729]\n",
       "20         세  [-65.031555]\n",
       "21         승  [-28.802504]\n",
       "22  연봉(2017)    [160.8636]\n",
       "23        이닝     [234.796]\n",
       "24         패  [-163.93466]\n",
       "25        한화   [2092.8796]\n",
       "26        홀드   [-81.75767]\n",
       "27      홈런/9  [-155.16437]"
      ]
     },
     "execution_count": 28,
     "metadata": {},
     "output_type": "execute_result"
    }
   ],
   "source": [
    "pd.DataFrame([X_test.columns,W]).T"
   ]
  },
  {
   "cell_type": "markdown",
   "id": "531e6871",
   "metadata": {},
   "source": [
    "결과값이 통계로 돌린 예측값과 크게 차이가 난다.   \n",
    "   \n",
    "예를 들어, 투수에게 높을 수록 유리한 승과 홀드가 높아도 연봉상승에 영향을 많이 미치지 않는 것으로 해석이 된다.   \n",
    "승 수가 별로 없는 계투나 마무리투수의 경우에도 성적이 좋으면 높은 연봉을 받을 수 있기 때문에 이가 영향을 미친 것으로 추측된다.   \n",
    "반대로 홀드는 오직 계투들에게만, 세이브는 마무리투수들에게만 적용되는 데이터이다. 선발투수들은 홀드나 세이브 기록을 올리는 경우가 거의 없기 때문에 성적이 좋은 선발투수들도 홀드나 세이브가 없음에도 높은 연봉을 받는 것이 당연하다.   \n",
    "   \n",
    "또한 딥러닝을 돌리기에는 데이터가 많이 부족한 것일 수도 있다. 오직 2017년의 데이터들만 가지고 하기에는 많은 데이터를 요구하는 딥러닝에서는 정확한 결과가 나오지 않을 수도 있다. "
   ]
  }
 ],
 "metadata": {
  "kernelspec": {
   "display_name": "Python 3 (ipykernel)",
   "language": "python",
   "name": "python3"
  },
  "language_info": {
   "codemirror_mode": {
    "name": "ipython",
    "version": 3
   },
   "file_extension": ".py",
   "mimetype": "text/x-python",
   "name": "python",
   "nbconvert_exporter": "python",
   "pygments_lexer": "ipython3",
   "version": "3.7.3"
  }
 },
 "nbformat": 4,
 "nbformat_minor": 5
}
