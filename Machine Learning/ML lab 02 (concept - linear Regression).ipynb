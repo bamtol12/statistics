{
 "cells": [
  {
   "cell_type": "code",
   "execution_count": 2,
   "id": "ecd36730",
   "metadata": {},
   "outputs": [],
   "source": [
    "import tensorflow.compat.v1 as tf\n",
    "tf.disable_v2_behavior()\n",
    "import matplotlib.pyplot as plt\n",
    "\n",
    "X = [1, 2, 3] \n",
    "Y = [1, 2, 3] #X와 Y R^3*1\n",
    "\n",
    "W = tf.placeholder(tf.float32) #임시로 W값 지정\n",
    "#float32를 사용하여 효율 up\n",
    "#정확성과 효율 사이 적절한 점을 찾아야함\n",
    "\n",
    "hypothesis = X * W #W가 변수"
   ]
  },
  {
   "cell_type": "code",
   "execution_count": 3,
   "id": "be3b4f83",
   "metadata": {},
   "outputs": [
    {
     "data": {
      "text/plain": [
       "TensorShape(None)"
      ]
     },
     "execution_count": 3,
     "metadata": {},
     "output_type": "execute_result"
    }
   ],
   "source": [
    "hypothesis.shape #W값이 지정되지 않았기 때문에 값이 나오지 않음"
   ]
  },
  {
   "cell_type": "code",
   "execution_count": 4,
   "id": "305d61d4",
   "metadata": {},
   "outputs": [],
   "source": [
    "cost = tf.reduce_mean(tf.square(hypothesis - Y))\n",
    "#hypotheses와 y값의 차를 구한 후 제곱\n",
    "#평균을 내서 차원을 줄임"
   ]
  },
  {
   "cell_type": "code",
   "execution_count": 5,
   "id": "fcf4ff03",
   "metadata": {},
   "outputs": [
    {
     "data": {
      "text/plain": [
       "<tf.Tensor 'Mean:0' shape=() dtype=float32>"
      ]
     },
     "execution_count": 5,
     "metadata": {},
     "output_type": "execute_result"
    }
   ],
   "source": [
    "cost \n",
    "#밑의 그래프에서 y값\n",
    "#아직 W에 값이 지정되지 않았기 때문에 값이 나오지 않음"
   ]
  },
  {
   "cell_type": "code",
   "execution_count": 6,
   "id": "3b362aae",
   "metadata": {},
   "outputs": [],
   "source": [
    "W_history = []\n",
    "cost_history = []"
   ]
  },
  {
   "cell_type": "code",
   "execution_count": 7,
   "id": "59a6709a",
   "metadata": {},
   "outputs": [],
   "source": [
    "with tf.Session() as sess:\n",
    "    for i in range(-30, 50):#그래프의 치역 정의\n",
    "        curr_W = i\n",
    "        #print(curr_W)\n",
    "        curr_cost = sess.run(cost, feed_dict={W: curr_W}) #W값을 curr_W로 저으이\n",
    "        W_history.append(curr_W)\n",
    "        cost_history.append(curr_cost)"
   ]
  },
  {
   "cell_type": "code",
   "execution_count": 8,
   "id": "d6f75abc",
   "metadata": {},
   "outputs": [
    {
     "data": {
      "image/png": "[encoded data removed]",
      "text/plain": [
       "<Figure size 432x288 with 1 Axes>"
      ]
     },
     "metadata": {
      "needs_background": "light"
     },
     "output_type": "display_data"
    }
   ],
   "source": [
    "plt.plot(W_history, cost_history)\n",
    "plt.show()"
   ]
  },
  {
   "cell_type": "code",
   "execution_count": 9,
   "id": "8b26aea8",
   "metadata": {},
   "outputs": [
    {
     "data": {
      "text/plain": [
       "[-30,\n",
       " -29,\n",
       " -28,\n",
       " -27,\n",
       " -26,\n",
       " -25,\n",
       " -24,\n",
       " -23,\n",
       " -22,\n",
       " -21,\n",
       " -20,\n",
       " -19,\n",
       " -18,\n",
       " -17,\n",
       " -16,\n",
       " -15,\n",
       " -14,\n",
       " -13,\n",
       " -12,\n",
       " -11,\n",
       " -10,\n",
       " -9,\n",
       " -8,\n",
       " -7,\n",
       " -6,\n",
       " -5,\n",
       " -4,\n",
       " -3,\n",
       " -2,\n",
       " -1,\n",
       " 0,\n",
       " 1,\n",
       " 2,\n",
       " 3,\n",
       " 4,\n",
       " 5,\n",
       " 6,\n",
       " 7,\n",
       " 8,\n",
       " 9,\n",
       " 10,\n",
       " 11,\n",
       " 12,\n",
       " 13,\n",
       " 14,\n",
       " 15,\n",
       " 16,\n",
       " 17,\n",
       " 18,\n",
       " 19,\n",
       " 20,\n",
       " 21,\n",
       " 22,\n",
       " 23,\n",
       " 24,\n",
       " 25,\n",
       " 26,\n",
       " 27,\n",
       " 28,\n",
       " 29,\n",
       " 30,\n",
       " 31,\n",
       " 32,\n",
       " 33,\n",
       " 34,\n",
       " 35,\n",
       " 36,\n",
       " 37,\n",
       " 38,\n",
       " 39,\n",
       " 40,\n",
       " 41,\n",
       " 42,\n",
       " 43,\n",
       " 44,\n",
       " 45,\n",
       " 46,\n",
       " 47,\n",
       " 48,\n",
       " 49]"
      ]
     },
     "execution_count": 9,
     "metadata": {},
     "output_type": "execute_result"
    }
   ],
   "source": [
    "W_history"
   ]
  },
  {
   "cell_type": "code",
   "execution_count": 10,
   "id": "04ba29c9",
   "metadata": {},
   "outputs": [
    {
     "data": {
      "text/plain": [
       "[4484.6665,\n",
       " 4200.0,\n",
       " 3924.6667,\n",
       " 3658.6667,\n",
       " 3402.0,\n",
       " 3154.6667,\n",
       " 2916.6667,\n",
       " 2688.0,\n",
       " 2468.6667,\n",
       " 2258.6667,\n",
       " 2058.0,\n",
       " 1866.6666,\n",
       " 1684.6666,\n",
       " 1512.0,\n",
       " 1348.6666,\n",
       " 1194.6666,\n",
       " 1050.0,\n",
       " 914.6667,\n",
       " 788.6667,\n",
       " 672.0,\n",
       " 564.6667,\n",
       " 466.66666,\n",
       " 378.0,\n",
       " 298.66666,\n",
       " 228.66667,\n",
       " 168.0,\n",
       " 116.666664,\n",
       " 74.666664,\n",
       " 42.0,\n",
       " 18.666666,\n",
       " 4.6666665,\n",
       " 0.0,\n",
       " 4.6666665,\n",
       " 18.666666,\n",
       " 42.0,\n",
       " 74.666664,\n",
       " 116.666664,\n",
       " 168.0,\n",
       " 228.66667,\n",
       " 298.66666,\n",
       " 378.0,\n",
       " 466.66666,\n",
       " 564.6667,\n",
       " 672.0,\n",
       " 788.6667,\n",
       " 914.6667,\n",
       " 1050.0,\n",
       " 1194.6666,\n",
       " 1348.6666,\n",
       " 1512.0,\n",
       " 1684.6666,\n",
       " 1866.6666,\n",
       " 2058.0,\n",
       " 2258.6667,\n",
       " 2468.6667,\n",
       " 2688.0,\n",
       " 2916.6667,\n",
       " 3154.6667,\n",
       " 3402.0,\n",
       " 3658.6667,\n",
       " 3924.6667,\n",
       " 4200.0,\n",
       " 4484.6665,\n",
       " 4778.6665,\n",
       " 5082.0,\n",
       " 5394.6665,\n",
       " 5716.6665,\n",
       " 6048.0,\n",
       " 6388.6665,\n",
       " 6738.6665,\n",
       " 7098.0,\n",
       " 7466.6665,\n",
       " 7844.6665,\n",
       " 8232.0,\n",
       " 8628.667,\n",
       " 9034.667,\n",
       " 9450.0,\n",
       " 9874.667,\n",
       " 10308.667,\n",
       " 10752.0]"
      ]
     },
     "execution_count": 10,
     "metadata": {},
     "output_type": "execute_result"
    }
   ],
   "source": [
    "cost_history"
   ]
  }
 ],
 "metadata": {
  "kernelspec": {
   "display_name": "Python 3 (ipykernel)",
   "language": "python",
   "name": "python3"
  },
  "language_info": {
   "codemirror_mode": {
    "name": "ipython",
    "version": 3
   },
   "file_extension": ".py",
   "mimetype": "text/x-python",
   "name": "python",
   "nbconvert_exporter": "python",
   "pygments_lexer": "ipython3",
   "version": "3.8.2"
  }
 },
 "nbformat": 4,
 "nbformat_minor": 5
}
